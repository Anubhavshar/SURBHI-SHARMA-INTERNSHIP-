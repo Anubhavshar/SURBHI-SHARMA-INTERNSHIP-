{
 "cells": [
  {
   "cell_type": "code",
   "execution_count": 1,
   "id": "da0f6f86",
   "metadata": {},
   "outputs": [],
   "source": [
    "import re"
   ]
  },
  {
   "cell_type": "code",
   "execution_count": 4,
   "id": "0e12cec6",
   "metadata": {},
   "outputs": [],
   "source": [
    "#Q.1 write a python programme to check that a string contains certain set of characters"
   ]
  },
  {
   "cell_type": "code",
   "execution_count": 6,
   "id": "17f5fc56",
   "metadata": {},
   "outputs": [
    {
     "name": "stdout",
     "output_type": "stream",
     "text": [
      "it is a match\n"
     ]
    }
   ],
   "source": [
    "string1=\"Taj MAHAL is among 7 wonders of the world\"\n",
    "pattern=('[^a-zA-Z0-9]+')\n",
    "x=re.search(pattern,string1)\n",
    "if x:\n",
    "    print('it is a match')\n",
    "else:\n",
    "    print('no match found')"
   ]
  },
  {
   "cell_type": "code",
   "execution_count": 7,
   "id": "f695fccd",
   "metadata": {},
   "outputs": [],
   "source": [
    "#Q.2 create a function in python that matches a string that has an a followed by zero or more b's"
   ]
  },
  {
   "cell_type": "code",
   "execution_count": 8,
   "id": "1f370545",
   "metadata": {},
   "outputs": [
    {
     "name": "stdout",
     "output_type": "stream",
     "text": [
      "it is a match\n"
     ]
    }
   ],
   "source": [
    "my_string=\"abbc\"\n",
    "pattern=('ab*?')\n",
    "x=re.search(pattern,my_string)\n",
    "if x:\n",
    "    print('it is a match')\n",
    "else:\n",
    "    print('no match found')\n"
   ]
  },
  {
   "cell_type": "code",
   "execution_count": 9,
   "id": "f7877c4d",
   "metadata": {},
   "outputs": [],
   "source": [
    "#Q.3 create a function that matches a string that has an a followed by one or more b's"
   ]
  },
  {
   "cell_type": "code",
   "execution_count": 10,
   "id": "b35a069c",
   "metadata": {},
   "outputs": [
    {
     "name": "stdout",
     "output_type": "stream",
     "text": [
      "it is a match\n"
     ]
    }
   ],
   "source": [
    "string=\"abbbcd\"\n",
    "pattern=('ab+?')\n",
    "x=re.search(pattern,string)\n",
    "if x:\n",
    "    print('it is a match')\n",
    "else:\n",
    "    print('no match found')"
   ]
  },
  {
   "cell_type": "code",
   "execution_count": 11,
   "id": "f29f8199",
   "metadata": {},
   "outputs": [],
   "source": [
    "#Q.4 create a function in  python and use regex that matches a string that has an a followed by zero or one b."
   ]
  },
  {
   "cell_type": "code",
   "execution_count": 12,
   "id": "af47b846",
   "metadata": {},
   "outputs": [
    {
     "name": "stdout",
     "output_type": "stream",
     "text": [
      "it is a match\n"
     ]
    }
   ],
   "source": [
    "string=\"abcd\"\n",
    "pattern=('ab?')\n",
    "x=re.search(pattern,string)\n",
    "if x:\n",
    "    print('it is a match')\n",
    "else:\n",
    "    print('no match found')"
   ]
  },
  {
   "cell_type": "code",
   "execution_count": 13,
   "id": "3a36fbea",
   "metadata": {},
   "outputs": [],
   "source": [
    "#Q.5 write a pyhton programme that matches a string that has an a followed by three b's"
   ]
  },
  {
   "cell_type": "code",
   "execution_count": 14,
   "id": "be5ae557",
   "metadata": {},
   "outputs": [
    {
     "name": "stdout",
     "output_type": "stream",
     "text": [
      "it is a match\n"
     ]
    }
   ],
   "source": [
    "string=\"abbbcdbb\"\n",
    "pattern=('ab{3}?')\n",
    "x=re.search(pattern,string)\n",
    "if x:\n",
    "    print('it is a match')\n",
    "else:\n",
    "    print('no match found')"
   ]
  },
  {
   "cell_type": "code",
   "execution_count": 15,
   "id": "9baabc5c",
   "metadata": {},
   "outputs": [],
   "source": [
    "#Q.6write a regular expression in python to split into uppercase letter"
   ]
  },
  {
   "cell_type": "code",
   "execution_count": 23,
   "id": "3b50f9e4",
   "metadata": {},
   "outputs": [
    {
     "name": "stdout",
     "output_type": "stream",
     "text": [
      "['Importance', 'Of', 'Regular', 'Expression', 'In', 'Python']\n"
     ]
    }
   ],
   "source": [
    "text=\"ImportanceOfRegularExpressionInPython\"\n",
    "pattern=('[A-Z][^A-Z]*')\n",
    "x=re.findall(pattern,text)\n",
    "print(x)"
   ]
  },
  {
   "cell_type": "code",
   "execution_count": 24,
   "id": "20ad96c6",
   "metadata": {},
   "outputs": [],
   "source": [
    "#Q.7 write a pyhton programme that matches a string that has an a followed by two to three 'b'"
   ]
  },
  {
   "cell_type": "code",
   "execution_count": 25,
   "id": "89897451",
   "metadata": {},
   "outputs": [
    {
     "name": "stdout",
     "output_type": "stream",
     "text": [
      "it is a match\n"
     ]
    }
   ],
   "source": [
    "string=\"abbcd\"\n",
    "pattern=('ab{2,3}?')\n",
    "x=re.search(pattern,string)\n",
    "if x:\n",
    "    print('it is a match')\n",
    "else:\n",
    "    print('no match found')"
   ]
  },
  {
   "cell_type": "code",
   "execution_count": 26,
   "id": "7853b3c3",
   "metadata": {},
   "outputs": [],
   "source": [
    "#Q.8 write a python programme to find sequences of lowercase letters joined with a underscore"
   ]
  },
  {
   "cell_type": "code",
   "execution_count": 27,
   "id": "b7b5b2f1",
   "metadata": {},
   "outputs": [
    {
     "name": "stdout",
     "output_type": "stream",
     "text": [
      "it is a match\n"
     ]
    }
   ],
   "source": [
    "text=\"virat_kohli\"\n",
    "pattern=('[a-z]+_[a-z]+')\n",
    "x=re.search(pattern,text)\n",
    "if x:\n",
    "    print('it is a match')\n",
    "else:\n",
    "    print('no match found')"
   ]
  },
  {
   "cell_type": "code",
   "execution_count": 28,
   "id": "bd12f2cf",
   "metadata": {},
   "outputs": [],
   "source": [
    "#Q.9 write a python programme that matches a string that has an a followed by anything ending in b. "
   ]
  },
  {
   "cell_type": "code",
   "execution_count": 29,
   "id": "0afd908e",
   "metadata": {},
   "outputs": [
    {
     "name": "stdout",
     "output_type": "stream",
     "text": [
      "it is a match\n"
     ]
    }
   ],
   "source": [
    "txt=\"acdfefsb\"\n",
    "pattern=('a.*?b$')\n",
    "x=re.search(pattern,txt)\n",
    "if x:\n",
    "    print('it is a match')\n",
    "else:\n",
    "    print('no match found')"
   ]
  },
  {
   "cell_type": "code",
   "execution_count": 30,
   "id": "d8c4fcb6",
   "metadata": {},
   "outputs": [],
   "source": [
    "#Q.10 write a python programme that matches a word at the begnning of the string"
   ]
  },
  {
   "cell_type": "code",
   "execution_count": 31,
   "id": "b9cebfd3",
   "metadata": {},
   "outputs": [
    {
     "name": "stdout",
     "output_type": "stream",
     "text": [
      "it is a match\n"
     ]
    }
   ],
   "source": [
    "string=\"India is a beautiful country\"\n",
    "pattern=('^\\w+')\n",
    "x=re.search(pattern,string)\n",
    "if x:\n",
    "    print('it is a match')\n",
    "else:\n",
    "    print('no match found')"
   ]
  },
  {
   "cell_type": "code",
   "execution_count": 32,
   "id": "a978ce9e",
   "metadata": {},
   "outputs": [],
   "source": [
    "#Q.11 write a python programme to match a string that contains only upper and lower case letters,numbers,and underscores."
   ]
  },
  {
   "cell_type": "code",
   "execution_count": 2,
   "id": "fc68aeb1",
   "metadata": {},
   "outputs": [
    {
     "name": "stdout",
     "output_type": "stream",
     "text": [
      "it is a match\n"
     ]
    }
   ],
   "source": [
    "string=\"ABCabc12300_aab\"\n",
    "pattern=('[A-z]+[a-z]+[0-9]+_?')\n",
    "x=re.search(pattern,string)\n",
    "if x:\n",
    "    print('it is a match')\n",
    "else:\n",
    "    print('no match found')"
   ]
  },
  {
   "cell_type": "code",
   "execution_count": 3,
   "id": "cbf39ced",
   "metadata": {},
   "outputs": [],
   "source": [
    "#Q.12 write a python programme where a string will start with a specific number."
   ]
  },
  {
   "cell_type": "code",
   "execution_count": 11,
   "id": "d0e6b467",
   "metadata": {},
   "outputs": [
    {
     "name": "stdout",
     "output_type": "stream",
     "text": [
      "enter a string 86765734958\n",
      "enter a number 8\n",
      "it is a match\n"
     ]
    }
   ],
   "source": [
    "my_string = input('enter a string ')\n",
    "my_number = input('enter a number ')\n",
    "m = re.match(my_number, my_string)\n",
    "if m:\n",
    "    print('it is a match')\n",
    "else:\n",
    "    print('no match found')"
   ]
  },
  {
   "cell_type": "code",
   "execution_count": 4,
   "id": "252e097c",
   "metadata": {},
   "outputs": [],
   "source": [
    "#Q.13 write a python programme to remove leading zeros from an IP address."
   ]
  },
  {
   "cell_type": "code",
   "execution_count": 19,
   "id": "47ae25ea",
   "metadata": {},
   "outputs": [
    {
     "name": "stdout",
     "output_type": "stream",
     "text": [
      "2001.db8..1234..567.8.1\n"
     ]
    }
   ],
   "source": [
    "ip=\"2001:db8:0:1234:0:567:8:1\"\n",
    "pattern=re.sub('\\:[0]*','.',ip)\n",
    "\n",
    "print(pattern)"
   ]
  },
  {
   "cell_type": "code",
   "execution_count": 20,
   "id": "f90fe846",
   "metadata": {},
   "outputs": [],
   "source": [
    "#Q.14 write a regular expression in python to match a data string in the form of month name followed by day name and year stored in a text file"
   ]
  },
  {
   "cell_type": "code",
   "execution_count": 43,
   "id": "b69c27d7",
   "metadata": {},
   "outputs": [
    {
     "name": "stdout",
     "output_type": "stream",
     "text": [
      "Full match: August 15\n"
     ]
    }
   ],
   "source": [
    "text=\"On August 15th 1947 that India was declared independent from British colonialism and the reins of control were handed over to the Leaders of the country\"\n",
    "\n",
    "regex = r\"([a-zA-Z]+) (\\d+)\"\n",
    "match = re.search(regex,text)\n",
    "print (\"Full match: %s\" % (match.group(0))) "
   ]
  },
  {
   "cell_type": "code",
   "execution_count": 36,
   "id": "cdcd891e",
   "metadata": {},
   "outputs": [],
   "source": [
    "#Q.15 write a python programme to search some literals strings in a string.go to the editor"
   ]
  },
  {
   "cell_type": "code",
   "execution_count": 25,
   "id": "fc4e38ac",
   "metadata": {},
   "outputs": [
    {
     "name": "stdout",
     "output_type": "stream",
     "text": [
      "it is a match\n"
     ]
    }
   ],
   "source": [
    "text=\"The quick brown fox jumps over the lazy dog\"\n",
    "x=re.search('fox|dog|horse',text)\n",
    "if x:\n",
    "    print('it is a match')\n",
    "else:\n",
    "    ('no match found')"
   ]
  },
  {
   "cell_type": "code",
   "execution_count": 26,
   "id": "3ee280b8",
   "metadata": {},
   "outputs": [],
   "source": [
    "#Q.16 write a python programme to search a literals string in a string and also find the location with in the original string where the pattern occurs."
   ]
  },
  {
   "cell_type": "code",
   "execution_count": 28,
   "id": "f0231371",
   "metadata": {},
   "outputs": [
    {
     "name": "stdout",
     "output_type": "stream",
     "text": [
      "it is a match starts on 16\n"
     ]
    }
   ],
   "source": [
    "text=\"The quick brown fox jumps over the lazy dog\"\n",
    "pattern=('\\Wfox\\W',text)\n",
    "if x:\n",
    "    print('it is a match starts on',x.start())\n",
    "else:\n",
    "    print('no match found')"
   ]
  },
  {
   "cell_type": "code",
   "execution_count": 35,
   "id": "69197904",
   "metadata": {},
   "outputs": [],
   "source": [
    "#Q.17 write a python programme to find the substring with in a string"
   ]
  },
  {
   "cell_type": "code",
   "execution_count": 37,
   "id": "e2cc49d0",
   "metadata": {},
   "outputs": [
    {
     "name": "stdout",
     "output_type": "stream",
     "text": [
      "it is a match 3\n"
     ]
    }
   ],
   "source": [
    "text=\"Python exercises,PHP exercises,C# exercises\"\n",
    "pattern=('exercises')\n",
    "x=re.findall(pattern,text)\n",
    "if x:\n",
    "    print('it is a match',len(x))\n",
    "else:\n",
    "    print('no match found')"
   ]
  },
  {
   "cell_type": "code",
   "execution_count": 29,
   "id": "2d6c0abd",
   "metadata": {},
   "outputs": [],
   "source": [
    "#Q.18 write a python programme to find the occurance and the position of the substrings within a string."
   ]
  },
  {
   "cell_type": "code",
   "execution_count": 34,
   "id": "981a4bf5",
   "metadata": {},
   "outputs": [
    {
     "name": "stdout",
     "output_type": "stream",
     "text": [
      "text 'exercises' found at position (7, 16)\n",
      "text 'exercises' found at position (21, 30)\n",
      "text 'exercises' found at position (34, 43)\n"
     ]
    }
   ],
   "source": [
    "text=\"Python exercises,PHP exercises,C# exercises\"\n",
    "pattern=('exercises')\n",
    "x=re.finditer(pattern,text)\n",
    "for match in x:\n",
    "    print('text \\'{}\\''.format(pattern), 'found at position', match.span())"
   ]
  },
  {
   "cell_type": "code",
   "execution_count": 38,
   "id": "ab01638b",
   "metadata": {},
   "outputs": [],
   "source": [
    "#Q.19 write a python programme to convert a date of yyyy-mm-dd format to dd-mm-yyyy format."
   ]
  },
  {
   "cell_type": "code",
   "execution_count": 39,
   "id": "83ce2928",
   "metadata": {},
   "outputs": [
    {
     "name": "stdout",
     "output_type": "stream",
     "text": [
      "dd-mm-yyyy\n"
     ]
    }
   ],
   "source": [
    "date=\"yyyy-mm-dd\"\n",
    "x=re.split('-',date)\n",
    "y='-'.join(x[::-1])\n",
    "print(y)"
   ]
  },
  {
   "cell_type": "code",
   "execution_count": 40,
   "id": "6c9a6367",
   "metadata": {},
   "outputs": [],
   "source": [
    "#Q.20 write a pyhton programme to find all words starting with a or e in a given string."
   ]
  },
  {
   "cell_type": "code",
   "execution_count": 46,
   "id": "54840634",
   "metadata": {},
   "outputs": [
    {
     "name": "stdout",
     "output_type": "stream",
     "text": [
      "['an', 'apple', 'ay', 'eeps', 'away']\n"
     ]
    }
   ],
   "source": [
    "string=\"an apple a day keeps the doctor away\"\n",
    "x=re.findall(\"[ae]\\w+\",string)\n",
    "\n",
    "print(x)"
   ]
  },
  {
   "cell_type": "code",
   "execution_count": 45,
   "id": "ffd06728",
   "metadata": {},
   "outputs": [],
   "source": [
    "#Q.21write a pyhton programme to seperate and print the number and their position of a giveb string."
   ]
  },
  {
   "cell_type": "code",
   "execution_count": 2,
   "id": "93f627e7",
   "metadata": {},
   "outputs": [
    {
     "name": "stdout",
     "output_type": "stream",
     "text": [
      "50\n",
      "Index Position: 24\n"
     ]
    }
   ],
   "source": [
    "text=\"Rohit Sharma has scored 50 runs in his last match\"\n",
    "for i in re.finditer(\"\\d+\",text):\n",
    "    print(i.group())\n",
    "    print(\"Index Position:\",i.start())"
   ]
  },
  {
   "cell_type": "code",
   "execution_count": null,
   "id": "7e6d965b",
   "metadata": {},
   "outputs": [],
   "source": [
    "#Q.22 write a regular expression in python to extract maximum numeric value from a string."
   ]
  },
  {
   "cell_type": "code",
   "execution_count": 3,
   "id": "f7f47864",
   "metadata": {},
   "outputs": [
    {
     "name": "stdout",
     "output_type": "stream",
     "text": [
      "Maximun Number: 789\n"
     ]
    }
   ],
   "source": [
    "string='abcd123efg456hij789'\n",
    "number=re.findall(\"\\d+\",string)\n",
    "number=map(int,number)\n",
    "print(\"Maximun Number:\",max(number))"
   ]
  },
  {
   "cell_type": "code",
   "execution_count": 33,
   "id": "c5882eed",
   "metadata": {},
   "outputs": [],
   "source": [
    "#Q.23write a regex in python to put spaces between words starting with capital letters."
   ]
  },
  {
   "cell_type": "code",
   "execution_count": 43,
   "id": "80420b15",
   "metadata": {},
   "outputs": [
    {
     "name": "stdout",
     "output_type": "stream",
     "text": [
      "Pandas Numpy Python Statistics\n"
     ]
    }
   ],
   "source": [
    "string2=\"PandasNumpyPythonStatistics\"\n",
    "pattern=('[A-Z][a-z]*')\n",
    "x=re.findall(pattern,string2)\n",
    "print(\" \".join(x))"
   ]
  },
  {
   "cell_type": "code",
   "execution_count": 47,
   "id": "4f37bac0",
   "metadata": {},
   "outputs": [],
   "source": [
    "#Q.24 python regex to find sequences of one uppercase letter followed by lower case letter."
   ]
  },
  {
   "cell_type": "code",
   "execution_count": 12,
   "id": "74cc5a04",
   "metadata": {},
   "outputs": [
    {
     "name": "stdout",
     "output_type": "stream",
     "text": [
      "Yes\n",
      "No\n"
     ]
    }
   ],
   "source": [
    "def match(text):\n",
    "    pattern=('[A-Z]+[a-z]+$')\n",
    "    if re.search(pattern,text):\n",
    "        return(\"Yes\")\n",
    "    else:\n",
    "        return(\"No\")\n",
    "print(match(\"Cricket\"))\n",
    "print(match(\"virat kohli\"))"
   ]
  },
  {
   "cell_type": "code",
   "execution_count": 13,
   "id": "1066201a",
   "metadata": {},
   "outputs": [],
   "source": [
    "#Q.25 write a pyhton programme to remove duplicate words from sentence using regular expression"
   ]
  },
  {
   "cell_type": "code",
   "execution_count": 46,
   "id": "dbfe4186",
   "metadata": {},
   "outputs": [
    {
     "name": "stdout",
     "output_type": "stream",
     "text": [
      "Ram went went to to school\n"
     ]
    }
   ],
   "source": [
    "string_1=\"Ram went went to to school\"\n",
    "regex=r'\\b(\\w+)(?:\\w+\\1\\b)+'\n",
    "x=re.sub(regex,r\"\\1\",string_1)\n",
    "print(x)"
   ]
  },
  {
   "cell_type": "code",
   "execution_count": null,
   "id": "b252831a",
   "metadata": {},
   "outputs": [],
   "source": [
    "#Q.26 write a python programme using regex to accept string with alphanumeric character."
   ]
  },
  {
   "cell_type": "code",
   "execution_count": 10,
   "id": "95b959dc",
   "metadata": {},
   "outputs": [
    {
     "name": "stdout",
     "output_type": "stream",
     "text": [
      "Yes\n"
     ]
    }
   ],
   "source": [
    "string=\"string234\"\n",
    "pattern='[a-zA-Z0-9]$'\n",
    "if re.search(pattern,string):\n",
    "    print('Yes')\n",
    "else:\n",
    "    print('No')"
   ]
  },
  {
   "cell_type": "code",
   "execution_count": 11,
   "id": "aa6bcbe4",
   "metadata": {},
   "outputs": [],
   "source": [
    "#Q.27 write a python programme using regex to extract the hashtag"
   ]
  },
  {
   "cell_type": "code",
   "execution_count": 16,
   "id": "77be04b5",
   "metadata": {},
   "outputs": [
    {
     "name": "stdout",
     "output_type": "stream",
     "text": [
      "['#Dotiwal', '#xyzabc', '#Demonetization']\n"
     ]
    }
   ],
   "source": [
    "string=\"RT@kapil_kaushik:#Dotiwal I mean #xyzabc is hurt by #Demonetization as the same has rendered USELESS <ed><U+OOAO><U+OOBD><ed><U+OOB1><U+OO89> acquired funds No wo\"\n",
    "pattern=r'#\\w+'\n",
    "x=re.findall(pattern,string)\n",
    "print(x)"
   ]
  },
  {
   "cell_type": "code",
   "execution_count": null,
   "id": "8bd75b8c",
   "metadata": {},
   "outputs": [],
   "source": [
    "#Q.28write a pyhton programme using regex to remove <U+..> like symbols\n"
   ]
  },
  {
   "cell_type": "code",
   "execution_count": 50,
   "id": "7b35bf51",
   "metadata": {},
   "outputs": [
    {
     "name": "stdout",
     "output_type": "stream",
     "text": [
      "@Jags123456 Bharat band on 28??<ed><U+OOAO><U+OOBD><ed><U+OOB8><U+OO82>Those who are protesting #demonetization are all different party leader\n"
     ]
    }
   ],
   "source": [
    "text=\"@Jags123456 Bharat band on 28??<ed><U+OOAO><U+OOBD><ed><U+OOB8><U+OO82>Those who are protesting #demonetization are all different party leader\"\n",
    "pattern = r\"<U\\+[A-F0-9]{2}>\"\n",
    "cleaned_text = re.sub(pattern, \"\", text)\n",
    "print(cleaned_text)"
   ]
  },
  {
   "cell_type": "code",
   "execution_count": 30,
   "id": "e87f7fc6",
   "metadata": {},
   "outputs": [],
   "source": [
    "#Q.29 write a pyhton programme to extarct dates from the text strored in the text file"
   ]
  },
  {
   "cell_type": "code",
   "execution_count": 23,
   "id": "31fd342b",
   "metadata": {},
   "outputs": [
    {
     "name": "stdout",
     "output_type": "stream",
     "text": [
      "['12-09-1992', '15-12-1999']\n"
     ]
    }
   ],
   "source": [
    "text=\"Ron was born on 12-09-1992 and he was admitted to school 15-12-1999\"\n",
    "pattern=r'\\d{2}[-/]\\d{2}[-/]\\d{4}'\n",
    "x=re.findall(pattern,text)\n",
    "print(x)"
   ]
  },
  {
   "cell_type": "code",
   "execution_count": 24,
   "id": "16e87c67",
   "metadata": {},
   "outputs": [],
   "source": [
    "#Q.30 write a python programme to replace all the occurences of a space,comma,or dot with a colon."
   ]
  },
  {
   "cell_type": "code",
   "execution_count": 25,
   "id": "3e7012ea",
   "metadata": {},
   "outputs": [
    {
     "name": "stdout",
     "output_type": "stream",
     "text": [
      "Python:Exercises::PHP:exercises\n"
     ]
    }
   ],
   "source": [
    "text='Python Exercises, PHP exercises'\n",
    "print(re.sub(\"[ ,.]\", \":\", text))"
   ]
  },
  {
   "cell_type": "code",
   "execution_count": null,
   "id": "7322b0cc",
   "metadata": {},
   "outputs": [],
   "source": []
  }
 ],
 "metadata": {
  "kernelspec": {
   "display_name": "Python 3 (ipykernel)",
   "language": "python",
   "name": "python3"
  },
  "language_info": {
   "codemirror_mode": {
    "name": "ipython",
    "version": 3
   },
   "file_extension": ".py",
   "mimetype": "text/x-python",
   "name": "python",
   "nbconvert_exporter": "python",
   "pygments_lexer": "ipython3",
   "version": "3.9.13"
  }
 },
 "nbformat": 4,
 "nbformat_minor": 5
}
